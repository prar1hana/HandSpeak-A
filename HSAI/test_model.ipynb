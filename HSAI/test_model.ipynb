{
 "cells": [
  {
   "cell_type": "code",
   "execution_count": 2,
   "metadata": {},
   "outputs": [
    {
     "name": "stdout",
     "output_type": "stream",
     "text": [
      "Enter Image Name: 4.png\n",
      "\n",
      "Predicted Sign is:\n",
      "\n",
      "A\n"
     ]
    }
   ],
   "source": [
    "from keras.models import load_model\n",
    "\n",
    "classifier = load_model('Trained_model.h5')\n",
    "# classifier.evaluate()\n",
    "\n",
    "#Prediction of single image\n",
    "import numpy as np\n",
    "from keras.preprocessing import image\n",
    "img_name = input('Enter Image Name: ')\n",
    "image_path = img_name\n",
    "\n",
    "# image_path = './predicting_data/{}'.format(img_name)\n",
    "print('')\n",
    "\n",
    "test_image = image.load_img(image_path, target_size=(64, 64))\n",
    "test_image = image.img_to_array(test_image)\n",
    "test_image = np.expand_dims(test_image, axis = 0)\n",
    "result = classifier.predict(test_image)\n",
    "#training_set.class_indices\n",
    "print('Predicted Sign is:')\n",
    "print('')\n",
    "if result[0][0] == 1:\n",
    "       print( 'A')\n",
    "elif result[0][1] == 1:\n",
    "       print( 'B')\n",
    "elif result[0][2] == 1:\n",
    "       print( 'C')\n",
    "elif result[0][3] == 1:\n",
    "       print( 'D')\n",
    "elif result[0][4] == 1:\n",
    "       print( 'E')\n",
    "elif result[0][5] == 1:\n",
    "       print( 'F')\n",
    "elif result[0][6] == 1:\n",
    "       print( 'G')\n",
    "elif result[0][7] == 1:\n",
    "       print( 'H')\n",
    "elif result[0][8] == 1:\n",
    "       print( 'I')\n",
    "elif result[0][9] == 1:\n",
    "       print( 'J')\n",
    "elif result[0][10] == 1:\n",
    "       print( 'K')\n",
    "elif result[0][11] == 1:\n",
    "       print( 'L')\n",
    "elif result[0][12] == 1:\n",
    "       print( 'M')\n",
    "elif result[0][13] == 1:\n",
    "       print( 'N')\n",
    "elif result[0][14] == 1:\n",
    "       print( 'O')\n",
    "elif result[0][15] == 1:\n",
    "       print( 'P')\n",
    "elif result[0][16] == 1:\n",
    "       print( 'Q')\n",
    "elif result[0][17] == 1:\n",
    "       print( 'R')\n",
    "elif result[0][18] == 1:\n",
    "       print( 'S')\n",
    "elif result[0][19] == 1:\n",
    "       print( 'T')\n",
    "elif result[0][20] == 1:\n",
    "       print( 'U')\n",
    "elif result[0][21] == 1:\n",
    "       print( 'V')\n",
    "elif result[0][22] == 1:\n",
    "       print( 'W')\n",
    "elif result[0][23] == 1:\n",
    "       print( 'X')\n",
    "elif result[0][24] == 1:\n",
    "       print( 'Y')\n",
    "elif result[0][25] == 1:\n",
    "       print( 'Z')\n",
    "\n"
   ]
  },
  {
   "cell_type": "code",
   "execution_count": null,
   "metadata": {},
   "outputs": [],
   "source": []
  }
 ],
 "metadata": {
  "kernelspec": {
   "display_name": "Python 3",
   "language": "python",
   "name": "python3"
  },
  "language_info": {
   "codemirror_mode": {
    "name": "ipython",
    "version": 3
   },
   "file_extension": ".py",
   "mimetype": "text/x-python",
   "name": "python",
   "nbconvert_exporter": "python",
   "pygments_lexer": "ipython3",
   "version": "3.7.4"
  }
 },
 "nbformat": 4,
 "nbformat_minor": 4
}
