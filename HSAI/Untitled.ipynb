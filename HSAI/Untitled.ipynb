{
 "cells": [
  {
   "cell_type": "code",
   "execution_count": 5,
   "metadata": {},
   "outputs": [
    {
     "name": "stdout",
     "output_type": "stream",
     "text": [
      "Enter Image Name: 4.png\n",
      "\n",
      "Predicted Sign is:\n",
      "\n"
     ]
    },
    {
     "ename": "SyntaxError",
     "evalue": "'return' outside function (<ipython-input-5-e2d8b9c44ddb>, line 23)",
     "output_type": "error",
     "traceback": [
      "\u001b[0;36m  File \u001b[0;32m\"<ipython-input-5-e2d8b9c44ddb>\"\u001b[0;36m, line \u001b[0;32m23\u001b[0m\n\u001b[0;31m    return 'A'\u001b[0m\n\u001b[0m    ^\u001b[0m\n\u001b[0;31mSyntaxError\u001b[0m\u001b[0;31m:\u001b[0m 'return' outside function\n"
     ]
    }
   ],
   "source": [
    "from keras.models import load_model\n",
    "\n",
    "classifier = load_model('Trained_model.h5')\n",
    "# classifier.evaluate()\n",
    "\n",
    "#Prediction of single image\n",
    "import numpy as np\n",
    "from keras.preprocessing import image\n",
    "img_name = input('Enter Image Name: ')\n",
    "image_path = img_name\n",
    "\n",
    "# image_path = './predicting_data/{}'.format(img_name)\n",
    "print('')\n",
    "\n",
    "test_image = image.load_img(image_path, target_size=(64, 64))\n",
    "test_image = image.img_to_array(test_image)\n",
    "test_image = np.expand_dims(test_image, axis = 0)\n",
    "result = classifier.predict(test_image)\n",
    "#training_set.class_indices\n",
    "print('Predicted Sign is:')\n",
    "print('')\n",
    "def fizz_count()\n",
    "if result[0][0] == 1:\n",
    "       return 'A'\n",
    "elif result[0][1] == 1:\n",
    "       return 'B'\n",
    "elif result[0][2] == 1:\n",
    "       return 'C'\n",
    "elif result[0][3] == 1:\n",
    "       return 'D'\n",
    "elif result[0][4] == 1:\n",
    "       return 'E'\n",
    "elif result[0][5] == 1:\n",
    "       return 'F'\n",
    "elif result[0][6] == 1:\n",
    "       return 'G'\n",
    "elif result[0][7] == 1:\n",
    "       return 'H'\n",
    "elif result[0][8] == 1:\n",
    "       return 'I'\n",
    "elif result[0][9] == 1:\n",
    "       return 'J'\n",
    "elif result[0][10] == 1:\n",
    "       return 'K'\n",
    "elif result[0][11] == 1:\n",
    "       return 'L'\n",
    "elif result[0][12] == 1:\n",
    "       return 'M'\n",
    "elif result[0][13] == 1:\n",
    "       return 'N'\n",
    "elif result[0][14] == 1:\n",
    "       return 'O'\n",
    "elif result[0][15] == 1:\n",
    "       return 'P'\n",
    "elif result[0][16] == 1:\n",
    "       return 'Q'\n",
    "elif result[0][17] == 1:\n",
    "       return 'R'\n",
    "elif result[0][18] == 1:\n",
    "       return 'S'\n",
    "elif result[0][19] == 1:\n",
    "       return 'T'\n",
    "elif result[0][20] == 1:\n",
    "       return 'U'\n",
    "elif result[0][21] == 1:\n",
    "       return 'V'\n",
    "elif result[0][22] == 1:\n",
    "       return 'W'\n",
    "elif result[0][23] == 1:\n",
    "       return 'X'\n",
    "elif result[0][24] == 1:\n",
    "       return 'Y'\n",
    "elif result[0][25] == 1:\n",
    "       return 'Z'\n",
    "\n"
   ]
  },
  {
   "cell_type": "code",
   "execution_count": null,
   "metadata": {},
   "outputs": [],
   "source": []
  }
 ],
 "metadata": {
  "kernelspec": {
   "display_name": "Python 3",
   "language": "python",
   "name": "python3"
  },
  "language_info": {
   "codemirror_mode": {
    "name": "ipython",
    "version": 3
   },
   "file_extension": ".py",
   "mimetype": "text/x-python",
   "name": "python",
   "nbconvert_exporter": "python",
   "pygments_lexer": "ipython3",
   "version": "3.7.5"
  }
 },
 "nbformat": 4,
 "nbformat_minor": 4
}
